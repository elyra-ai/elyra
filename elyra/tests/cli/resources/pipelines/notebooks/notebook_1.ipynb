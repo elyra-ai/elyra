{
 "cells": [
  {
   "cell_type": "code",
   "execution_count": null,
   "id": "3a802b24-04da-487b-8888-7d39abdfc7f1",
   "metadata": {},
   "outputs": [],
   "source": [
    "print(\"I am notebook 1\")"
   ]
  }
 ],
 "metadata": {
  "kernelspec": {
   "display_name": "Python 3 (ipykernel)",
   "language": "python",
   "name": "python3"
  },
  "language_info": {
   "codemirror_mode": {
    "name": "ipython",
    "version": 3
   },
   "file_extension": ".py",
   "mimetype": "text/x-python",
   "name": "python",
   "nbconvert_exporter": "python",
   "pygments_lexer": "ipython3",
   "version": "3.7.12"
  }
 },
 "nbformat": 4,
 "nbformat_minor": 5
}
