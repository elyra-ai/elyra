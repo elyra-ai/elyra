{
 "cells": [
  {
   "cell_type": "code",
   "execution_count": null,
   "id": "b3522266-2228-4c41-9ef5-ed1a6d64caf8",
   "metadata": {},
   "outputs": [],
   "source": [
    "print(\"I am notebook 2\")"
   ]
  }
 ],
 "metadata": {
  "kernelspec": {
   "display_name": "Python 3 (ipykernel)",
   "language": "python",
   "name": "python3"
  },
  "language_info": {
   "codemirror_mode": {
    "name": "ipython",
    "version": 3
   },
   "file_extension": ".py",
   "mimetype": "text/x-python",
   "name": "python",
   "nbconvert_exporter": "python",
   "pygments_lexer": "ipython3",
   "version": "3.7.12"
  }
 },
 "nbformat": 4,
 "nbformat_minor": 5
}
