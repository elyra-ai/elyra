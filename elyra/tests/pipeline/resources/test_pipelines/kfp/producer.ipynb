{
 "cells": [
  {
   "cell_type": "markdown",
   "id": "042fe9e2-a95b-419b-9d18-e18f73e1ce0b",
   "metadata": {},
   "source": [
    "This is a test notebook."
   ]
  },
  {
   "cell_type": "markdown",
   "id": "f9f232ee-62be-4311-920b-3dc990f4c3aa",
   "metadata": {},
   "source": [
    "Create an output file"
   ]
  },
  {
   "cell_type": "code",
   "execution_count": null,
   "id": "15cd8863-b7e3-4234-857f-e5f40cbe767e",
   "metadata": {},
   "outputs": [],
   "source": [
    "output_filename = \"producer_output.csv\""
   ]
  },
  {
   "cell_type": "code",
   "execution_count": null,
   "id": "90d5ff6c-1048-49fb-ac06-0a011df2aa8f",
   "metadata": {},
   "outputs": [],
   "source": [
    "with open(output_filename, \"w\") as fh:\n",
    "    fh.write(\"1,2,3\\n4,5,6\\n7,8,9\\n\")"
   ]
  }
 ],
 "metadata": {
  "kernelspec": {
   "display_name": "Python 3 (ipykernel)",
   "language": "python",
   "name": "python3"
  },
  "language_info": {
   "codemirror_mode": {
    "name": "ipython",
    "version": 3
   },
   "file_extension": ".py",
   "mimetype": "text/x-python",
   "name": "python",
   "nbconvert_exporter": "python",
   "pygments_lexer": "ipython3",
   "version": "3.7.12"
  }
 },
 "nbformat": 4,
 "nbformat_minor": 5
}
