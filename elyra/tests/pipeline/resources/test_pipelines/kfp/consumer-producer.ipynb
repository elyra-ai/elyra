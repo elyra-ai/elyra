{
 "cells": [
  {
   "cell_type": "markdown",
   "id": "042fe9e2-a95b-419b-9d18-e18f73e1ce0b",
   "metadata": {},
   "source": [
    "This is a test notebook."
   ]
  },
  {
   "cell_type": "markdown",
   "id": "5da62e7f-d63b-402d-83c4-7c2da5f62f2e",
   "metadata": {},
   "source": [
    "Read an input file"
   ]
  },
  {
   "cell_type": "code",
   "execution_count": null,
   "id": "9407a8c3-c9c2-4224-b99c-5b0492e9f4b8",
   "metadata": {},
   "outputs": [],
   "source": [
    "input_filename = \"producer_output.csv\"\n",
    "with open(input_filename, \"r\") as fh:\n",
    "    input = fh.read()"
   ]
  },
  {
   "cell_type": "markdown",
   "id": "f9f232ee-62be-4311-920b-3dc990f4c3aa",
   "metadata": {},
   "source": [
    "Create an output file"
   ]
  },
  {
   "cell_type": "code",
   "execution_count": null,
   "id": "15cd8863-b7e3-4234-857f-e5f40cbe767e",
   "metadata": {},
   "outputs": [],
   "source": [
    "output_filename = \"consumer_producer_output.csv\""
   ]
  },
  {
   "cell_type": "code",
   "execution_count": null,
   "id": "90d5ff6c-1048-49fb-ac06-0a011df2aa8f",
   "metadata": {},
   "outputs": [],
   "source": [
    "with open(output_filename, \"w\") as fh:\n",
    "    fh.write(input)\n",
    "    fh.write(\"X,Y,Z\\n\")"
   ]
  }
 ],
 "metadata": {
  "kernelspec": {
   "display_name": "Python 3 (ipykernel)",
   "language": "python",
   "name": "python3"
  },
  "language_info": {
   "codemirror_mode": {
    "name": "ipython",
    "version": 3
   },
   "file_extension": ".py",
   "mimetype": "text/x-python",
   "name": "python",
   "nbconvert_exporter": "python",
   "pygments_lexer": "ipython3",
   "version": "3.7.12"
  }
 },
 "nbformat": 4,
 "nbformat_minor": 5
}
