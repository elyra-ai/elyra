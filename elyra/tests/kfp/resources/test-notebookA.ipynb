{
 "cells": [
  {
   "cell_type": "code",
   "execution_count": 1,
   "metadata": {},
   "outputs": [
    {
     "name": "stdout",
     "output_type": "stream",
     "text": [
      "TEST_ENV_VAR1: None\n"
     ]
    },
    {
     "data": {
      "text/plain": [
       "'test-file/test,file/test,file-copy.txt'"
      ]
     },
     "execution_count": 1,
     "metadata": {},
     "output_type": "execute_result"
    }
   ],
   "source": [
    "import os\n",
    "from shutil import copyfile\n",
    "\n",
    "print(\"TEST_ENV_VAR1: {}\".format(os.getenv(\"TEST_ENV_VAR1\")))\n",
    "\n",
    "os.makedirs(\"test-file/test,file\", exist_ok=True)\n",
    "copyfile('test-file.txt', 'test-file/test-file-copy.txt')\n",
    "copyfile('test,file.txt', 'test-file/test,file/test,file-copy.txt')"
   ]
  },
  {
   "cell_type": "code",
   "execution_count": null,
   "metadata": {},
   "outputs": [],
   "source": []
  }
 ],
 "metadata": {
  "kernelspec": {
   "display_name": "Python 3",
   "language": "python",
   "name": "python3"
  },
  "language_info": {
   "codemirror_mode": {
    "name": "ipython",
    "version": 3
   },
   "file_extension": ".py",
   "mimetype": "text/x-python",
   "name": "python",
   "nbconvert_exporter": "python",
   "pygments_lexer": "ipython3",
   "version": "3.7.0"
  }
 },
 "nbformat": 4,
 "nbformat_minor": 4
}
