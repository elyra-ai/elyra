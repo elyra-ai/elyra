{
 "cells": [
  {
   "cell_type": "markdown",
   "id": "advanced-touch",
   "metadata": {},
   "source": [
    "# R Notebook with No Environment Variables\n",
    "\n",
    "This R Notebook contains no environment variables to test the parser functionality."
   ]
  },
  {
   "cell_type": "code",
   "execution_count": null,
   "id": "regional-indie",
   "metadata": {},
   "outputs": [],
   "source": [
       "print(\"Hello\")  # Sys.getenv(\"VAR1\")\n",
       "# Sys.getenv(\"VAR2\")\n"
   ]
  }
 ],
 "metadata": {
  "kernelspec": {
   "display_name": "R",
   "language": "R",
   "name": "ir"
  },
  "language_info": {
   "codemirror_mode": "r",
   "file_extension": ".r",
   "mimetype": "text/x-r-source",
   "name": "R",
   "pygments_lexer": "r",
   "version": "4.0.3"
  }
 },
 "nbformat": 4,
 "nbformat_minor": 5
}
