{
 "cells": [
  {
   "cell_type": "markdown",
   "id": "advanced-touch",
   "metadata": {},
   "source": [
    "# R Notebook with Environment Variables\n",
    "\n",
    "This R Notebook contains various environment variables to test the parser functionality."
   ]
  },
  {
   "cell_type": "code",
   "execution_count": null,
   "id": "regional-indie",
   "metadata": {},
   "outputs": [],
   "source": [
       "Sys.setenv(VAR1 = \"value1\")\n",
       "Sys.getenv(VAR2)\n",
       "Sys.getenv(\"VAR3\")\n",
       "Sys.setenv(\"VAR4\" = \"value4\")\n",
       "Sys.getenv('VAR5')\n",
       "Sys.setenv('VAR6' = 6)\n"
   ]
  }
 ],
 "metadata": {
  "kernelspec": {
   "display_name": "R",
   "language": "R",
   "name": "ir"
  },
  "language_info": {
   "codemirror_mode": "r",
   "file_extension": ".r",
   "mimetype": "text/x-r-source",
   "name": "R",
   "pygments_lexer": "r",
   "version": "4.0.3"
  }
 },
 "nbformat": 4,
 "nbformat_minor": 5
}
