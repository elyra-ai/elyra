{
 "cells": [
  {
   "cell_type": "markdown",
   "id": "literary-parts",
   "metadata": {},
   "source": [
    "# Python Notebook with No Environment Variables\n",
    "\n",
    "This python Notebook contains no environment variables to test the parser functionality."
   ]
  },
  {
   "cell_type": "code",
   "execution_count": null,
   "id": "dental-manchester",
   "metadata": {},
   "outputs": [],
   "source": [
    "import os\n",
    "\n",
    "print(os.cwd())  # os.environ.get(\"VAR1\")\n",
    "# os.environ[\"VAR2\"] = \"value\""
   ]
  }
 ],
 "metadata": {
  "kernelspec": {
   "display_name": "Python 3",
   "language": "python",
   "name": "python3"
  },
  "language_info": {
   "codemirror_mode": {
    "name": "ipython",
    "version": 3
   },
   "file_extension": ".py",
   "mimetype": "text/x-python",
   "name": "python",
   "nbconvert_exporter": "python",
   "pygments_lexer": "ipython3",
   "version": "3.9.1"
  }
 },
 "nbformat": 4,
 "nbformat_minor": 5
}
