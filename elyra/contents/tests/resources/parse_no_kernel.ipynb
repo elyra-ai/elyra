{
 "cells": [
  {
   "cell_type": "markdown",
   "id": "lasting-disposition",
   "metadata": {},
   "source": [
    "# Notebook with No Kernel Specified\n",
    "\n",
    "This Notebook contains various enviornment variables, but will fail to parse because no kernel is specified."
   ]
  },
  {
   "cell_type": "code",
   "execution_count": null,
   "id": "cognitive-match",
   "metadata": {},
   "outputs": [],
   "source": [
    "import os\n",
    "\n",
    "os.getenv(\"VAR1\")\n",
    "os.environ[\"VAR2\"]\n",
    "os.environ.get(\"VAR3\")\n",
    "\n",
    "print(os.environ[\"VAR4\"])\n",
    "print(os.getenv(\"VAR5\", 'localhost'))"
   ]
  },
  {
   "cell_type": "code",
   "execution_count": null,
   "id": "comprehensive-mexico",
   "metadata": {},
   "outputs": [],
   "source": [
    "os.environ[\"VAR6\"] = \"value6\"\n",
    "print(os.environ.get(\"VAR7\", 'value7'))\n",
    "\n",
    "os.environ[\"VAR1\"] = \"newvalue\""
   ]
  }
 ],
 "metadata": {
  "kernelspec": {
   "display_name": "",
   "name": ""
  },
  "language_info": {
   "name": ""
  }
 },
 "nbformat": 4,
 "nbformat_minor": 5
}
